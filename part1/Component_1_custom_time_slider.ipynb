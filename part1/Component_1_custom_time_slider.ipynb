{
 "cells": [
  {
   "cell_type": "code",
   "execution_count": 1,
   "metadata": {
    "collapsed": true
   },
   "outputs": [],
   "source": [
    "%matplotlib inline\n",
    "import pandas as pd\n",
    "import matplotlib.pyplot as plt\n",
    "import haversine as hv\n",
    "import numpy as np\n",
    "from ipywidgets import *\n",
    "from math import exp"
   ]
  },
  {
   "cell_type": "code",
   "execution_count": 2,
   "metadata": {
    "collapsed": true
   },
   "outputs": [],
   "source": [
    "# Read in \n",
    "location = pd.read_csv(\"location.txt\", delimiter=\"\\t\", names=[\"longitude\",\"latitude\",\"a\",\"b\"])\n",
    "del location[\"a\"], location[\"b\"]\n",
    "# From examples_week10.ipynb (IS590DV Class example)"
   ]
  },
  {
   "cell_type": "code",
   "execution_count": 3,
   "metadata": {
    "collapsed": true
   },
   "outputs": [],
   "source": [
    "# Tohoku : 142.369, 38.322\n",
    "Tohoku=(142.369, 38.322)"
   ]
  },
  {
   "cell_type": "code",
   "execution_count": 4,
   "metadata": {
    "collapsed": true
   },
   "outputs": [],
   "source": [
    "# Calculate the distances\n",
    "distance=[]\n",
    "for row in location.iterrows():\n",
    "    station = (row[1][0],row[1][1])\n",
    "    distance.append(hv.haversine(Tohoku,station))"
   ]
  },
  {
   "cell_type": "code",
   "execution_count": 5,
   "metadata": {
    "collapsed": true
   },
   "outputs": [],
   "source": [
    "# Add distance column to location DataFrame\n",
    "location[\"distance\"]=distance"
   ]
  },
  {
   "cell_type": "code",
   "execution_count": 6,
   "metadata": {
    "collapsed": true
   },
   "outputs": [],
   "source": [
    "location[\"order\"]=location.index"
   ]
  },
  {
   "cell_type": "code",
   "execution_count": 7,
   "metadata": {
    "collapsed": true
   },
   "outputs": [],
   "source": [
    "# Sort by distacnes (acsending)\n",
    "location = location.sort_values(by=['distance'])"
   ]
  },
  {
   "cell_type": "code",
   "execution_count": 8,
   "metadata": {
    "collapsed": true
   },
   "outputs": [],
   "source": [
    "order=list(location[\"order\"])"
   ]
  },
  {
   "cell_type": "code",
   "execution_count": 9,
   "metadata": {
    "collapsed": true
   },
   "outputs": [],
   "source": [
    "# Read in detector data\n",
    "detector=pd.read_csv(\"data_tohoku_norm_transpose.csv\",names=np.arange(0,438), index_col=False)"
   ]
  },
  {
   "cell_type": "code",
   "execution_count": 10,
   "metadata": {
    "collapsed": true
   },
   "outputs": [],
   "source": [
    "ordered_detector = detector[order[0]]\n",
    "for each in order[1:]:\n",
    "    ordered_detector = pd.concat([ordered_detector,detector[each]],axis=1)"
   ]
  },
  {
   "cell_type": "code",
   "execution_count": 11,
   "metadata": {
    "collapsed": true
   },
   "outputs": [],
   "source": [
    "# Add time range column, from week 10 example\n",
    "time = pd.date_range(\"2:46PM\", \"6:46PM\", freq=\"1s\")\n",
    "time -= time[0]\n",
    "ordered_detector[\"time\"] = time\n",
    "ordered_detector.set_index(\"time\", inplace=True)"
   ]
  },
  {
   "cell_type": "code",
   "execution_count": 12,
   "metadata": {},
   "outputs": [
    {
     "data": {
      "text/html": [
       "<div>\n",
       "<style>\n",
       "    .dataframe thead tr:only-child th {\n",
       "        text-align: right;\n",
       "    }\n",
       "\n",
       "    .dataframe thead th {\n",
       "        text-align: left;\n",
       "    }\n",
       "\n",
       "    .dataframe tbody tr th {\n",
       "        vertical-align: top;\n",
       "    }\n",
       "</style>\n",
       "<table border=\"1\" class=\"dataframe\">\n",
       "  <thead>\n",
       "    <tr style=\"text-align: right;\">\n",
       "      <th></th>\n",
       "      <th>211</th>\n",
       "      <th>193</th>\n",
       "      <th>228</th>\n",
       "      <th>244</th>\n",
       "      <th>194</th>\n",
       "      <th>165</th>\n",
       "      <th>257</th>\n",
       "      <th>151</th>\n",
       "      <th>288</th>\n",
       "      <th>122</th>\n",
       "      <th>...</th>\n",
       "      <th>63</th>\n",
       "      <th>50</th>\n",
       "      <th>121</th>\n",
       "      <th>359</th>\n",
       "      <th>375</th>\n",
       "      <th>242</th>\n",
       "      <th>286</th>\n",
       "      <th>269</th>\n",
       "      <th>304</th>\n",
       "      <th>287</th>\n",
       "    </tr>\n",
       "    <tr>\n",
       "      <th>time</th>\n",
       "      <th></th>\n",
       "      <th></th>\n",
       "      <th></th>\n",
       "      <th></th>\n",
       "      <th></th>\n",
       "      <th></th>\n",
       "      <th></th>\n",
       "      <th></th>\n",
       "      <th></th>\n",
       "      <th></th>\n",
       "      <th></th>\n",
       "      <th></th>\n",
       "      <th></th>\n",
       "      <th></th>\n",
       "      <th></th>\n",
       "      <th></th>\n",
       "      <th></th>\n",
       "      <th></th>\n",
       "      <th></th>\n",
       "      <th></th>\n",
       "      <th></th>\n",
       "    </tr>\n",
       "  </thead>\n",
       "  <tbody>\n",
       "    <tr>\n",
       "      <th>00:00:00</th>\n",
       "      <td>-0.001273</td>\n",
       "      <td>0.002861</td>\n",
       "      <td>0.000524</td>\n",
       "      <td>-0.000501</td>\n",
       "      <td>0.000636</td>\n",
       "      <td>0.000501</td>\n",
       "      <td>-0.000090</td>\n",
       "      <td>-0.000892</td>\n",
       "      <td>0.000211</td>\n",
       "      <td>0.000612</td>\n",
       "      <td>...</td>\n",
       "      <td>NaN</td>\n",
       "      <td>-0.000249</td>\n",
       "      <td>-0.000137</td>\n",
       "      <td>0.000077</td>\n",
       "      <td>-0.000191</td>\n",
       "      <td>0.002128</td>\n",
       "      <td>0.000049</td>\n",
       "      <td>0.000025</td>\n",
       "      <td>-0.000400</td>\n",
       "      <td>0.000063</td>\n",
       "    </tr>\n",
       "    <tr>\n",
       "      <th>00:00:01</th>\n",
       "      <td>-0.001865</td>\n",
       "      <td>0.003157</td>\n",
       "      <td>0.000142</td>\n",
       "      <td>-0.000291</td>\n",
       "      <td>0.000863</td>\n",
       "      <td>0.000159</td>\n",
       "      <td>-0.000125</td>\n",
       "      <td>-0.001083</td>\n",
       "      <td>0.000425</td>\n",
       "      <td>0.000394</td>\n",
       "      <td>...</td>\n",
       "      <td>NaN</td>\n",
       "      <td>-0.000256</td>\n",
       "      <td>-0.000088</td>\n",
       "      <td>0.000217</td>\n",
       "      <td>0.000294</td>\n",
       "      <td>0.001515</td>\n",
       "      <td>0.000009</td>\n",
       "      <td>-0.000152</td>\n",
       "      <td>0.000151</td>\n",
       "      <td>-0.000126</td>\n",
       "    </tr>\n",
       "    <tr>\n",
       "      <th>00:00:02</th>\n",
       "      <td>-0.002425</td>\n",
       "      <td>0.003419</td>\n",
       "      <td>-0.000229</td>\n",
       "      <td>-0.000084</td>\n",
       "      <td>0.001077</td>\n",
       "      <td>-0.000176</td>\n",
       "      <td>-0.000157</td>\n",
       "      <td>-0.001258</td>\n",
       "      <td>0.000629</td>\n",
       "      <td>0.000177</td>\n",
       "      <td>...</td>\n",
       "      <td>NaN</td>\n",
       "      <td>-0.000261</td>\n",
       "      <td>-0.000039</td>\n",
       "      <td>0.000351</td>\n",
       "      <td>0.000764</td>\n",
       "      <td>0.000905</td>\n",
       "      <td>-0.000029</td>\n",
       "      <td>-0.000323</td>\n",
       "      <td>0.000685</td>\n",
       "      <td>-0.000309</td>\n",
       "    </tr>\n",
       "    <tr>\n",
       "      <th>00:00:03</th>\n",
       "      <td>-0.002937</td>\n",
       "      <td>0.003642</td>\n",
       "      <td>-0.000577</td>\n",
       "      <td>0.000114</td>\n",
       "      <td>0.001272</td>\n",
       "      <td>-0.000493</td>\n",
       "      <td>-0.000186</td>\n",
       "      <td>-0.001414</td>\n",
       "      <td>0.000818</td>\n",
       "      <td>-0.000030</td>\n",
       "      <td>...</td>\n",
       "      <td>NaN</td>\n",
       "      <td>-0.000263</td>\n",
       "      <td>0.000008</td>\n",
       "      <td>0.000476</td>\n",
       "      <td>0.001206</td>\n",
       "      <td>0.000318</td>\n",
       "      <td>-0.000067</td>\n",
       "      <td>-0.000482</td>\n",
       "      <td>0.001187</td>\n",
       "      <td>-0.000480</td>\n",
       "    </tr>\n",
       "    <tr>\n",
       "      <th>00:00:04</th>\n",
       "      <td>-0.003392</td>\n",
       "      <td>0.003827</td>\n",
       "      <td>-0.000895</td>\n",
       "      <td>0.000298</td>\n",
       "      <td>0.001443</td>\n",
       "      <td>-0.000787</td>\n",
       "      <td>-0.000212</td>\n",
       "      <td>-0.001546</td>\n",
       "      <td>0.000985</td>\n",
       "      <td>-0.000221</td>\n",
       "      <td>...</td>\n",
       "      <td>NaN</td>\n",
       "      <td>-0.000263</td>\n",
       "      <td>0.000052</td>\n",
       "      <td>0.000588</td>\n",
       "      <td>0.001610</td>\n",
       "      <td>-0.000232</td>\n",
       "      <td>-0.000103</td>\n",
       "      <td>-0.000627</td>\n",
       "      <td>0.001645</td>\n",
       "      <td>-0.000635</td>\n",
       "    </tr>\n",
       "  </tbody>\n",
       "</table>\n",
       "<p>5 rows × 438 columns</p>\n",
       "</div>"
      ],
      "text/plain": [
       "               211       193       228       244       194       165  \\\n",
       "time                                                                   \n",
       "00:00:00 -0.001273  0.002861  0.000524 -0.000501  0.000636  0.000501   \n",
       "00:00:01 -0.001865  0.003157  0.000142 -0.000291  0.000863  0.000159   \n",
       "00:00:02 -0.002425  0.003419 -0.000229 -0.000084  0.001077 -0.000176   \n",
       "00:00:03 -0.002937  0.003642 -0.000577  0.000114  0.001272 -0.000493   \n",
       "00:00:04 -0.003392  0.003827 -0.000895  0.000298  0.001443 -0.000787   \n",
       "\n",
       "               257       151       288       122    ...     63        50   \\\n",
       "time                                                ...                     \n",
       "00:00:00 -0.000090 -0.000892  0.000211  0.000612    ...     NaN -0.000249   \n",
       "00:00:01 -0.000125 -0.001083  0.000425  0.000394    ...     NaN -0.000256   \n",
       "00:00:02 -0.000157 -0.001258  0.000629  0.000177    ...     NaN -0.000261   \n",
       "00:00:03 -0.000186 -0.001414  0.000818 -0.000030    ...     NaN -0.000263   \n",
       "00:00:04 -0.000212 -0.001546  0.000985 -0.000221    ...     NaN -0.000263   \n",
       "\n",
       "               121       359       375       242       286       269  \\\n",
       "time                                                                   \n",
       "00:00:00 -0.000137  0.000077 -0.000191  0.002128  0.000049  0.000025   \n",
       "00:00:01 -0.000088  0.000217  0.000294  0.001515  0.000009 -0.000152   \n",
       "00:00:02 -0.000039  0.000351  0.000764  0.000905 -0.000029 -0.000323   \n",
       "00:00:03  0.000008  0.000476  0.001206  0.000318 -0.000067 -0.000482   \n",
       "00:00:04  0.000052  0.000588  0.001610 -0.000232 -0.000103 -0.000627   \n",
       "\n",
       "               304       287  \n",
       "time                          \n",
       "00:00:00 -0.000400  0.000063  \n",
       "00:00:01  0.000151 -0.000126  \n",
       "00:00:02  0.000685 -0.000309  \n",
       "00:00:03  0.001187 -0.000480  \n",
       "00:00:04  0.001645 -0.000635  \n",
       "\n",
       "[5 rows x 438 columns]"
      ]
     },
     "execution_count": 12,
     "metadata": {},
     "output_type": "execute_result"
    }
   ],
   "source": [
    "ordered_detector.head()"
   ]
  },
  {
   "cell_type": "code",
   "execution_count": 33,
   "metadata": {},
   "outputs": [
    {
     "name": "stderr",
     "output_type": "stream",
     "text": [
      "/anaconda3/lib/python3.6/site-packages/ipykernel_launcher.py:1: RuntimeWarning: divide by zero encountered in log\n",
      "  \"\"\"Entry point for launching an IPython kernel.\n"
     ]
    }
   ],
   "source": [
    "od = np.log(ordered_detector.values**2)\n",
    "od = od.transpose()\n"
   ]
  },
  {
   "cell_type": "code",
   "execution_count": 22,
   "metadata": {
    "collapsed": true
   },
   "outputs": [],
   "source": [
    "# Custom Time Slider\n",
    "time = widgets.IntSlider(min=0,max=14400, step=1, readout=False)\n",
    "def out(time):\n",
    "    hour = time//3600\n",
    "    time=time-hour*3600\n",
    "    minute = time//60\n",
    "    time=time-minute*60\n",
    "    second = time\n",
    "    if hour<10:\n",
    "        hour='0'+str(hour)\n",
    "    else:\n",
    "        hour=str(hour)\n",
    "    if minute<10:\n",
    "        minute='0'+str(minute)\n",
    "    else:\n",
    "        minute=str(minute)\n",
    "    if second<10:\n",
    "        second='0'+str(second)\n",
    "    else:\n",
    "        second=str(second)\n",
    "  \n",
    "    output=hour+\":\"+minute+\":\"+second\n",
    "    print(output)\n",
    "\n",
    "time_out = widgets.interactive_output(out, {'time':time})\n",
    "\n",
    "time_slider = widgets.HBox([widgets.HTML(value=\"00:00:00\"), time, time_out])\n",
    "def update_thing(event):\n",
    "    print(event)\n"
   ]
  },
  {
   "cell_type": "code",
   "execution_count": 23,
   "metadata": {
    "collapsed": true
   },
   "outputs": [],
   "source": [
    "time.observe(update_thing, 'value')"
   ]
  },
  {
   "cell_type": "code",
   "execution_count": 24,
   "metadata": {},
   "outputs": [
    {
     "data": {
      "application/vnd.jupyter.widget-view+json": {
       "model_id": "c1934e76d09d448fbc9d96189c14c218",
       "version_major": 2,
       "version_minor": 0
      },
      "text/plain": [
       "A Jupyter Widget"
      ]
     },
     "metadata": {},
     "output_type": "display_data"
    }
   ],
   "source": [
    "time"
   ]
  },
  {
   "cell_type": "code",
   "execution_count": 30,
   "metadata": {
    "collapsed": true
   },
   "outputs": [],
   "source": [
    "\n",
    "def make_plot(time:time, num=17):\n",
    "    Time=time.value\n",
    "    fig = plt.figure(figsize=(12,8))\n",
    "    # Plot the detectore on US map\n",
    "    ax11 = plt.subplot2grid((12,8), (1,0), colspan=4, rowspan=6)\n",
    "    ax11.scatter(location[\"longitude\"],location[\"latitude\"], c=detector.iloc[Time], cmap=\"Reds\", picker=10)\n",
    "    # Reference; https://stackoverflow.com/questions/8202605/matplotlib-scatterplot-colour-as-a-function-of-a-third-variable\n",
    "    ax11.set_title(\"Visualizing Tohoku Earthquake Detectors\")\n",
    "    ax11.axes.get_xaxis().set_visible(False)\n",
    "    ax11.axes.get_yaxis().set_visible(False)\n",
    "    # Reference: https://stackoverflow.com/questions/2176424/hiding-axis-text-in-matplotlib-plots\n",
    "    ax21 = plt.subplot2grid((12,8), (0,5), colspan=3, rowspan=4)\n",
    "    plt.imshow(od, aspect='auto', cmap='gray', origin='lower')\n",
    "    plt.plot([-100,15000],[num, num], 'k-', lw=1)\n",
    "    plt.plot([Time, Time], [-10, 500], 'k-', lw=1)\n",
    "    ax21.patch.set_visible(False)\n",
    "    ax21.axis('off')\n",
    "    ax22 = plt.subplot2grid((12,8), (4,5), colspan=3, rowspan=3)\n",
    "    ax22.plot(detector[num])\n",
    "    ax22.set_title(label = \"Waveform of Detector No.\"+str(num))\n",
    "    plt.show()\n",
    "\n",
    "time.observe(make_plot, 'value')\n",
    "\n",
    "# num=[]\n",
    "# def onpick(event):\n",
    "#     thisline = event.artist\n",
    "#     xdata = thisline.get_xdata()\n",
    "#     ydata = thisline.get_ydata()\n",
    "#     ind = event.ind\n",
    "#     num[0]=ind\n",
    "\n",
    "# cid = fig.canvas.mpl_connect('pick_evet',onpick)"
   ]
  },
  {
   "cell_type": "code",
   "execution_count": null,
   "metadata": {
    "collapsed": true
   },
   "outputs": [],
   "source": []
  },
  {
   "cell_type": "markdown",
   "metadata": {},
   "source": [
    "# Test area"
   ]
  },
  {
   "cell_type": "code",
   "execution_count": 45,
   "metadata": {},
   "outputs": [
    {
     "ename": "NameError",
     "evalue": "name 'ipywidgets' is not defined",
     "output_type": "error",
     "traceback": [
      "\u001b[0;31m---------------------------------------------------------------------------\u001b[0m",
      "\u001b[0;31mNameError\u001b[0m                                 Traceback (most recent call last)",
      "\u001b[0;32m<ipython-input-45-159ce160351b>\u001b[0m in \u001b[0;36m<module>\u001b[0;34m()\u001b[0m\n\u001b[0;32m----> 1\u001b[0;31m \u001b[0mTime\u001b[0m \u001b[0;34m=\u001b[0m \u001b[0mipywidgets\u001b[0m\u001b[0;34m.\u001b[0m\u001b[0mIntSlider\u001b[0m\u001b[0;34m(\u001b[0m\u001b[0mmin\u001b[0m\u001b[0;34m=\u001b[0m\u001b[0;36m0\u001b[0m\u001b[0;34m,\u001b[0m\u001b[0mmax\u001b[0m\u001b[0;34m=\u001b[0m\u001b[0;36m14400\u001b[0m\u001b[0;34m,\u001b[0m\u001b[0mstep\u001b[0m\u001b[0;34m=\u001b[0m\u001b[0;36m1\u001b[0m\u001b[0;34m)\u001b[0m\u001b[0;34m\u001b[0m\u001b[0m\n\u001b[0m",
      "\u001b[0;31mNameError\u001b[0m: name 'ipywidgets' is not defined"
     ]
    }
   ],
   "source": [
    "Time = ipywidgets.IntSlider(min=0,max=14400,step=1)"
   ]
  },
  {
   "cell_type": "code",
   "execution_count": null,
   "metadata": {
    "collapsed": true
   },
   "outputs": [],
   "source": [
    "Time.get_interact_value"
   ]
  },
  {
   "cell_type": "code",
   "execution_count": null,
   "metadata": {
    "collapsed": true
   },
   "outputs": [],
   "source": [
    "help(ipywidgets.HBox)"
   ]
  },
  {
   "cell_type": "code",
   "execution_count": null,
   "metadata": {
    "collapsed": true
   },
   "outputs": [],
   "source": [
    "%matplotlib notebook\n",
    "from ipywidgets import HBox, Button\n",
    "from IPython.display import display\n",
    "from matplotlib import pyplot as plt\n",
    "\n",
    "red = Button(description='Make Red')\n",
    "green = Button(description='Make Green')\n",
    "\n",
    "fig, ax = plt.subplots()\n",
    "ax.plot([1,2,3])\n",
    "plt.show()\n",
    "\n",
    "def make_red(button):\n",
    "    ax.lines[0].set_color('red')\n",
    "    ax.figure.canvas.draw()\n",
    "\n",
    "def make_green(button):\n",
    "    ax.lines[0].set_color('green')\n",
    "    ax.figure.canvas.draw()\n",
    "\n",
    "red.on_click(make_red )\n",
    "green.on_click(make_green)\n",
    "display(HBox([red, green]))"
   ]
  },
  {
   "cell_type": "code",
   "execution_count": null,
   "metadata": {
    "collapsed": true
   },
   "outputs": [],
   "source": []
  }
 ],
 "metadata": {
  "kernelspec": {
   "display_name": "Python 3",
   "language": "python",
   "name": "python3"
  },
  "language_info": {
   "codemirror_mode": {
    "name": "ipython",
    "version": 3
   },
   "file_extension": ".py",
   "mimetype": "text/x-python",
   "name": "python",
   "nbconvert_exporter": "python",
   "pygments_lexer": "ipython3",
   "version": "3.6.3"
  }
 },
 "nbformat": 4,
 "nbformat_minor": 2
}
