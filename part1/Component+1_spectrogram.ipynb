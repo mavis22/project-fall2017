{
 "cells": [
  {
   "cell_type": "code",
   "execution_count": 70,
   "metadata": {
    "collapsed": true
   },
   "outputs": [],
   "source": [
    "import pandas as pd\n",
    "import matplotlib.pyplot as plt\n",
    "%matplotlib inline\n",
    "import haversine as hv\n",
    "import numpy as np\n",
    "import ipywidgets\n",
    "from math import exp"
   ]
  },
  {
   "cell_type": "code",
   "execution_count": 2,
   "metadata": {
    "collapsed": true
   },
   "outputs": [],
   "source": [
    "# Read in \n",
    "location = pd.read_csv(\"location.txt\", delimiter=\"\\t\", names=[\"longitude\",\"latitude\",\"a\",\"b\"])\n",
    "del location[\"a\"], location[\"b\"]\n",
    "# From examples_week10.ipynb (IS590DV Class example)"
   ]
  },
  {
   "cell_type": "code",
   "execution_count": 3,
   "metadata": {
    "collapsed": true
   },
   "outputs": [],
   "source": [
    "# Tohoku : 142.369, 38.322\n",
    "Tohoku=(142.369, 38.322)"
   ]
  },
  {
   "cell_type": "code",
   "execution_count": 4,
   "metadata": {
    "collapsed": true
   },
   "outputs": [],
   "source": [
    "# Calculate the distances\n",
    "distance=[]\n",
    "for row in location.iterrows():\n",
    "    station = (row[1][0],row[1][1])\n",
    "    distance.append(hv.haversine(Tohoku,station))"
   ]
  },
  {
   "cell_type": "code",
   "execution_count": 5,
   "metadata": {
    "collapsed": true
   },
   "outputs": [],
   "source": [
    "# Add distance column to location DataFrame\n",
    "location[\"distance\"]=distance"
   ]
  },
  {
   "cell_type": "code",
   "execution_count": 6,
   "metadata": {
    "collapsed": true
   },
   "outputs": [],
   "source": [
    "location[\"order\"]=location.index"
   ]
  },
  {
   "cell_type": "code",
   "execution_count": 7,
   "metadata": {
    "collapsed": true
   },
   "outputs": [],
   "source": [
    "# Sort by distacnes (acsending)\n",
    "location = location.sort_values(by=['distance'])"
   ]
  },
  {
   "cell_type": "code",
   "execution_count": 8,
   "metadata": {
    "collapsed": true
   },
   "outputs": [],
   "source": [
    "order=list(location[\"order\"])"
   ]
  },
  {
   "cell_type": "code",
   "execution_count": 9,
   "metadata": {
    "collapsed": true
   },
   "outputs": [],
   "source": [
    "# Read in detector data\n",
    "detector=pd.read_csv(\"data_tohoku_norm_transpose.csv\",names=np.arange(0,438), index_col=False)"
   ]
  },
  {
   "cell_type": "code",
   "execution_count": 10,
   "metadata": {
    "collapsed": true
   },
   "outputs": [],
   "source": [
    "ordered_detector = detector[order[0]]\n",
    "for each in order[1:]:\n",
    "    ordered_detector = pd.concat([ordered_detector,detector[each]],axis=1)"
   ]
  },
  {
   "cell_type": "code",
   "execution_count": 11,
   "metadata": {
    "collapsed": true
   },
   "outputs": [],
   "source": [
    "# Add time range column, from week 10 example\n",
    "time = pd.date_range(\"2:46PM\", \"6:46PM\", freq=\"1s\")\n",
    "time -= time[0]\n",
    "ordered_detector[\"time\"] = time\n",
    "ordered_detector.set_index(\"time\", inplace=True)"
   ]
  },
  {
   "cell_type": "code",
   "execution_count": 12,
   "metadata": {},
   "outputs": [
    {
     "data": {
      "text/html": [
       "<div>\n",
       "<style>\n",
       "    .dataframe thead tr:only-child th {\n",
       "        text-align: right;\n",
       "    }\n",
       "\n",
       "    .dataframe thead th {\n",
       "        text-align: left;\n",
       "    }\n",
       "\n",
       "    .dataframe tbody tr th {\n",
       "        vertical-align: top;\n",
       "    }\n",
       "</style>\n",
       "<table border=\"1\" class=\"dataframe\">\n",
       "  <thead>\n",
       "    <tr style=\"text-align: right;\">\n",
       "      <th></th>\n",
       "      <th>211</th>\n",
       "      <th>193</th>\n",
       "      <th>228</th>\n",
       "      <th>244</th>\n",
       "      <th>194</th>\n",
       "      <th>165</th>\n",
       "      <th>257</th>\n",
       "      <th>151</th>\n",
       "      <th>288</th>\n",
       "      <th>122</th>\n",
       "      <th>...</th>\n",
       "      <th>63</th>\n",
       "      <th>50</th>\n",
       "      <th>121</th>\n",
       "      <th>359</th>\n",
       "      <th>375</th>\n",
       "      <th>242</th>\n",
       "      <th>286</th>\n",
       "      <th>269</th>\n",
       "      <th>304</th>\n",
       "      <th>287</th>\n",
       "    </tr>\n",
       "    <tr>\n",
       "      <th>time</th>\n",
       "      <th></th>\n",
       "      <th></th>\n",
       "      <th></th>\n",
       "      <th></th>\n",
       "      <th></th>\n",
       "      <th></th>\n",
       "      <th></th>\n",
       "      <th></th>\n",
       "      <th></th>\n",
       "      <th></th>\n",
       "      <th></th>\n",
       "      <th></th>\n",
       "      <th></th>\n",
       "      <th></th>\n",
       "      <th></th>\n",
       "      <th></th>\n",
       "      <th></th>\n",
       "      <th></th>\n",
       "      <th></th>\n",
       "      <th></th>\n",
       "      <th></th>\n",
       "    </tr>\n",
       "  </thead>\n",
       "  <tbody>\n",
       "    <tr>\n",
       "      <th>00:00:00</th>\n",
       "      <td>-0.001273</td>\n",
       "      <td>0.002861</td>\n",
       "      <td>0.000524</td>\n",
       "      <td>-0.000501</td>\n",
       "      <td>0.000636</td>\n",
       "      <td>0.000501</td>\n",
       "      <td>-0.000090</td>\n",
       "      <td>-0.000892</td>\n",
       "      <td>0.000211</td>\n",
       "      <td>0.000612</td>\n",
       "      <td>...</td>\n",
       "      <td>NaN</td>\n",
       "      <td>-0.000249</td>\n",
       "      <td>-0.000137</td>\n",
       "      <td>0.000077</td>\n",
       "      <td>-0.000191</td>\n",
       "      <td>0.002128</td>\n",
       "      <td>0.000049</td>\n",
       "      <td>0.000025</td>\n",
       "      <td>-0.000400</td>\n",
       "      <td>0.000063</td>\n",
       "    </tr>\n",
       "    <tr>\n",
       "      <th>00:00:01</th>\n",
       "      <td>-0.001865</td>\n",
       "      <td>0.003157</td>\n",
       "      <td>0.000142</td>\n",
       "      <td>-0.000291</td>\n",
       "      <td>0.000863</td>\n",
       "      <td>0.000159</td>\n",
       "      <td>-0.000125</td>\n",
       "      <td>-0.001083</td>\n",
       "      <td>0.000425</td>\n",
       "      <td>0.000394</td>\n",
       "      <td>...</td>\n",
       "      <td>NaN</td>\n",
       "      <td>-0.000256</td>\n",
       "      <td>-0.000088</td>\n",
       "      <td>0.000217</td>\n",
       "      <td>0.000294</td>\n",
       "      <td>0.001515</td>\n",
       "      <td>0.000009</td>\n",
       "      <td>-0.000152</td>\n",
       "      <td>0.000151</td>\n",
       "      <td>-0.000126</td>\n",
       "    </tr>\n",
       "    <tr>\n",
       "      <th>00:00:02</th>\n",
       "      <td>-0.002425</td>\n",
       "      <td>0.003419</td>\n",
       "      <td>-0.000229</td>\n",
       "      <td>-0.000084</td>\n",
       "      <td>0.001077</td>\n",
       "      <td>-0.000176</td>\n",
       "      <td>-0.000157</td>\n",
       "      <td>-0.001258</td>\n",
       "      <td>0.000629</td>\n",
       "      <td>0.000177</td>\n",
       "      <td>...</td>\n",
       "      <td>NaN</td>\n",
       "      <td>-0.000261</td>\n",
       "      <td>-0.000039</td>\n",
       "      <td>0.000351</td>\n",
       "      <td>0.000764</td>\n",
       "      <td>0.000905</td>\n",
       "      <td>-0.000029</td>\n",
       "      <td>-0.000323</td>\n",
       "      <td>0.000685</td>\n",
       "      <td>-0.000309</td>\n",
       "    </tr>\n",
       "    <tr>\n",
       "      <th>00:00:03</th>\n",
       "      <td>-0.002937</td>\n",
       "      <td>0.003642</td>\n",
       "      <td>-0.000577</td>\n",
       "      <td>0.000114</td>\n",
       "      <td>0.001272</td>\n",
       "      <td>-0.000493</td>\n",
       "      <td>-0.000186</td>\n",
       "      <td>-0.001414</td>\n",
       "      <td>0.000818</td>\n",
       "      <td>-0.000030</td>\n",
       "      <td>...</td>\n",
       "      <td>NaN</td>\n",
       "      <td>-0.000263</td>\n",
       "      <td>0.000008</td>\n",
       "      <td>0.000476</td>\n",
       "      <td>0.001206</td>\n",
       "      <td>0.000318</td>\n",
       "      <td>-0.000067</td>\n",
       "      <td>-0.000482</td>\n",
       "      <td>0.001187</td>\n",
       "      <td>-0.000480</td>\n",
       "    </tr>\n",
       "    <tr>\n",
       "      <th>00:00:04</th>\n",
       "      <td>-0.003392</td>\n",
       "      <td>0.003827</td>\n",
       "      <td>-0.000895</td>\n",
       "      <td>0.000298</td>\n",
       "      <td>0.001443</td>\n",
       "      <td>-0.000787</td>\n",
       "      <td>-0.000212</td>\n",
       "      <td>-0.001546</td>\n",
       "      <td>0.000985</td>\n",
       "      <td>-0.000221</td>\n",
       "      <td>...</td>\n",
       "      <td>NaN</td>\n",
       "      <td>-0.000263</td>\n",
       "      <td>0.000052</td>\n",
       "      <td>0.000588</td>\n",
       "      <td>0.001610</td>\n",
       "      <td>-0.000232</td>\n",
       "      <td>-0.000103</td>\n",
       "      <td>-0.000627</td>\n",
       "      <td>0.001645</td>\n",
       "      <td>-0.000635</td>\n",
       "    </tr>\n",
       "  </tbody>\n",
       "</table>\n",
       "<p>5 rows × 438 columns</p>\n",
       "</div>"
      ],
      "text/plain": [
       "               211       193       228       244       194       165  \\\n",
       "time                                                                   \n",
       "00:00:00 -0.001273  0.002861  0.000524 -0.000501  0.000636  0.000501   \n",
       "00:00:01 -0.001865  0.003157  0.000142 -0.000291  0.000863  0.000159   \n",
       "00:00:02 -0.002425  0.003419 -0.000229 -0.000084  0.001077 -0.000176   \n",
       "00:00:03 -0.002937  0.003642 -0.000577  0.000114  0.001272 -0.000493   \n",
       "00:00:04 -0.003392  0.003827 -0.000895  0.000298  0.001443 -0.000787   \n",
       "\n",
       "               257       151       288       122    ...     63        50   \\\n",
       "time                                                ...                     \n",
       "00:00:00 -0.000090 -0.000892  0.000211  0.000612    ...     NaN -0.000249   \n",
       "00:00:01 -0.000125 -0.001083  0.000425  0.000394    ...     NaN -0.000256   \n",
       "00:00:02 -0.000157 -0.001258  0.000629  0.000177    ...     NaN -0.000261   \n",
       "00:00:03 -0.000186 -0.001414  0.000818 -0.000030    ...     NaN -0.000263   \n",
       "00:00:04 -0.000212 -0.001546  0.000985 -0.000221    ...     NaN -0.000263   \n",
       "\n",
       "               121       359       375       242       286       269  \\\n",
       "time                                                                   \n",
       "00:00:00 -0.000137  0.000077 -0.000191  0.002128  0.000049  0.000025   \n",
       "00:00:01 -0.000088  0.000217  0.000294  0.001515  0.000009 -0.000152   \n",
       "00:00:02 -0.000039  0.000351  0.000764  0.000905 -0.000029 -0.000323   \n",
       "00:00:03  0.000008  0.000476  0.001206  0.000318 -0.000067 -0.000482   \n",
       "00:00:04  0.000052  0.000588  0.001610 -0.000232 -0.000103 -0.000627   \n",
       "\n",
       "               304       287  \n",
       "time                          \n",
       "00:00:00 -0.000400  0.000063  \n",
       "00:00:01  0.000151 -0.000126  \n",
       "00:00:02  0.000685 -0.000309  \n",
       "00:00:03  0.001187 -0.000480  \n",
       "00:00:04  0.001645 -0.000635  \n",
       "\n",
       "[5 rows x 438 columns]"
      ]
     },
     "execution_count": 12,
     "metadata": {},
     "output_type": "execute_result"
    }
   ],
   "source": [
    "ordered_detector.head()"
   ]
  },
  {
   "cell_type": "code",
   "execution_count": 58,
   "metadata": {
    "collapsed": true
   },
   "outputs": [],
   "source": [
    "od = ordered_detector.values\n",
    "od = od.transpose()"
   ]
  },
  {
   "cell_type": "code",
   "execution_count": 83,
   "metadata": {},
   "outputs": [
    {
     "data": {
      "application/vnd.jupyter.widget-view+json": {
       "model_id": "7b01b33710b14c1c815844c166ddccd9",
       "version_major": 2,
       "version_minor": 0
      },
      "text/plain": [
       "A Jupyter Widget"
      ]
     },
     "metadata": {},
     "output_type": "display_data"
    }
   ],
   "source": [
    "@ipywidgets.interact(Time=(0,14400,1), Num=list(np.arange(0,438)))\n",
    "def make_plot(Time, Num=0):\n",
    "    fig = plt.figure(figsize=(12,8))\n",
    "    # Plot the detectore on US map\n",
    "    ax11 = plt.subplot2grid((12,8), (1,0), colspan=4, rowspan=6)\n",
    "    ax11.scatter(location[\"longitude\"],location[\"latitude\"], c=detector.iloc[Time], cmap=\"Reds\")\n",
    "    # Reference; https://stackoverflow.com/questions/8202605/matplotlib-scatterplot-colour-as-a-function-of-a-third-variable\n",
    "    ax11.set_title(\"Visualizing Tohoku Earthquake Detectors\")\n",
    "    ax11.axes.get_xaxis().set_visible(False)\n",
    "    ax11.axes.get_yaxis().set_visible(False)\n",
    "    # Reference: https://stackoverflow.com/questions/2176424/hiding-axis-text-in-matplotlib-plots\n",
    "    ax21 = plt.subplot2grid((12,8), (0,5), colspan=3, rowspan=4)\n",
    "    plt.imshow(od, aspect='auto', cmap='gray')\n",
    "    plt.plot([-100,15000],[Num, Num], 'k-', lw=1)\n",
    "    plt.plot([Time, Time], [-10, 500], 'k-', lw=1)\n",
    "    #y 轴坐标从上到下 0：437，需要调整\n",
    "    ax21.patch.set_visible(False)\n",
    "    ax21.axis('off')\n",
    "    ax22 = plt.subplot2grid((12,8), (4,5), colspan=3, rowspan=3)\n",
    "    ax22.plot(detector[Num])\n",
    "    ax22.set_title(label = \"Waveform of Detector No.\"+str(Num))\n",
    "    plt.show()"
   ]
  },
  {
   "cell_type": "markdown",
   "metadata": {},
   "source": [
    "# Test area"
   ]
  },
  {
   "cell_type": "code",
   "execution_count": null,
   "metadata": {
    "collapsed": true
   },
   "outputs": [],
   "source": []
  }
 ],
 "metadata": {
  "kernelspec": {
   "display_name": "Python 3",
   "language": "python",
   "name": "python3"
  },
  "language_info": {
   "codemirror_mode": {
    "name": "ipython",
    "version": 3
   },
   "file_extension": ".py",
   "mimetype": "text/x-python",
   "name": "python",
   "nbconvert_exporter": "python",
   "pygments_lexer": "ipython3",
   "version": "3.6.3"
  }
 },
 "nbformat": 4,
 "nbformat_minor": 2
}
