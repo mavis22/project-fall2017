{
 "cells": [
  {
   "cell_type": "code",
   "execution_count": 113,
   "metadata": {
    "collapsed": true,
    "scrolled": true
   },
   "outputs": [],
   "source": [
    "%matplotlib inline"
   ]
  },
  {
   "cell_type": "code",
   "execution_count": 114,
   "metadata": {
    "collapsed": true
   },
   "outputs": [],
   "source": [
    "import pandas as pd\n",
    "import bqplot\n",
    "from bqplot import *\n",
    "import us\n",
    "import bqplot.pyplot as plt\n",
    "from ipywidgets import widgets\n",
    "import ipywidgets"
   ]
  },
  {
   "cell_type": "code",
   "execution_count": 115,
   "metadata": {
    "collapsed": true
   },
   "outputs": [],
   "source": [
    "names = [\"date\", \"city\", \"state\", \"country\", \"shape\", \"duration_seconds\",\n",
    "         \"duration_reported\", \"description\", \"report_date\", \"latitude\",\n",
    "         \"longitude\"]\n",
    "\n",
    "fn = 'ufo-scrubbed-geocoded-time-standardized.csv'\n",
    "ufo = pd.read_csv(fn, names = names, parse_dates = [\"date\", \"report_date\"])\n",
    "\n",
    "abbr_to_fits = us.states.mapping('abbr', 'fips')\n",
    "ufo[\"fips\"] = ufo[\"state\"].apply(lambda a: int(abbr_to_fits.get(str(a).upper(), -1)))\n",
    "ufo_date = ufo.set_index(\"date\")\n",
    "ufo['year'] = ufo_date.index.year\n",
    "ufo = ufo[ufo['fips'] != -1]"
   ]
  },
  {
   "cell_type": "code",
   "execution_count": 116,
   "metadata": {
    "collapsed": true
   },
   "outputs": [],
   "source": [
    "fips_count = ufo.groupby(['fips','year'])['duration_seconds'].count()\n",
    "fips_sum = ufo.groupby(['fips','year'])['duration_seconds'].sum()\n",
    "fips = pd.DataFrame()"
   ]
  },
  {
   "cell_type": "code",
   "execution_count": 117,
   "metadata": {
    "collapsed": true
   },
   "outputs": [],
   "source": [
    "fips['total_sightings'] = fips_count\n",
    "fips['duration_seconds'] =fips_sum"
   ]
  },
  {
   "cell_type": "code",
   "execution_count": 118,
   "metadata": {
    "collapsed": true
   },
   "outputs": [],
   "source": [
    "fips = fips.reset_index(level=['fips','year'])"
   ]
  },
  {
   "cell_type": "code",
   "execution_count": 119,
   "metadata": {
    "collapsed": true
   },
   "outputs": [],
   "source": [
    "## get population of each state\n",
    "population=pd.read_csv('U.S._states_population.csv',na_values='n/a')\n",
    "population=population[(population['year']>=1910)&(population['year']<=2014)]\n",
    "ppl=pd.melt(population, id_vars=['year'], value_vars=list(population)[1:])\n",
    "ppl=ppl.rename(index=str, columns={\"variable\": \"state\", \"value\": \"population\"})\n",
    "ppl[\"fips\"] = ppl[\"state\"].apply(lambda a: int(abbr_to_fits.get(str(a).upper(), -1)))\n",
    "ppl['population']=ppl['population'].str.replace(\",\", \"\").astype(float)"
   ]
  },
  {
   "cell_type": "code",
   "execution_count": 120,
   "metadata": {
    "collapsed": true
   },
   "outputs": [],
   "source": [
    "## Merge population data with fips and normalize data\n",
    "fips=pd.merge(fips, ppl, how='left', on=['fips', 'year'])\n",
    "fips['normalized_total_sightings']=fips.total_sightings/fips.population*1000000\n",
    "fips['normalized_duration_seconds']=fips.duration_seconds/fips.population*1000000"
   ]
  },
  {
   "cell_type": "code",
   "execution_count": 121,
   "metadata": {
    "collapsed": true
   },
   "outputs": [],
   "source": [
    "import widgetsnbextension\n",
    "from IPython.display import display"
   ]
  },
  {
   "cell_type": "code",
   "execution_count": 150,
   "metadata": {},
   "outputs": [
    {
     "data": {
      "application/vnd.jupyter.widget-view+json": {
       "model_id": "e034ace354d8410b9742105e74ed83c3",
       "version_major": 2,
       "version_minor": 0
      },
      "text/html": [
       "<p>Failed to display Jupyter Widget of type <code>interactive</code>.</p>\n",
       "<p>\n",
       "  If you're reading this message in the Jupyter Notebook or JupyterLab Notebook, it may mean\n",
       "  that the widgets JavaScript is still loading. If this message persists, it\n",
       "  likely means that the widgets JavaScript library is either not installed or\n",
       "  not enabled. See the <a href=\"https://ipywidgets.readthedocs.io/en/stable/user_install.html\">Jupyter\n",
       "  Widgets Documentation</a> for setup instructions.\n",
       "</p>\n",
       "<p>\n",
       "  If you're reading this message in another frontend (for example, a static\n",
       "  rendering on GitHub or <a href=\"https://nbviewer.jupyter.org/\">NBViewer</a>),\n",
       "  it may mean that your frontend doesn't currently support widgets.\n",
       "</p>\n"
      ],
      "text/plain": [
       "interactive(children=(Dropdown(description='field', options=('total_sightings', 'duration_seconds'), value='total_sightings'), IntSlider(value=2014, description='year', max=2014, min=1910), Dropdown(description='normalized', index=1, options=('Yes', 'No'), value='No'), Output()), _dom_classes=('widget-interact',))"
      ]
     },
     "metadata": {},
     "output_type": "display_data"
    }
   ],
   "source": [
    "@ipywidgets.interact(field = [\"total_sightings\", \"duration_seconds\"], \n",
    "                     normalized = [\"Yes\",\"No\"], \n",
    "                     year = (min(fips['year']),max(fips['year']),1))\n",
    "\n",
    "def make_plot(field=\"total_sightings\", year=max(fips['year']), normalized=\"No\"):\n",
    "    fips_year = fips[fips['year']==int(year)]\n",
    "    plt.clear()\n",
    "    if normalized == 'Yes':\n",
    "        field='normalized_'+field\n",
    "    map_fig = plt.figure(title=\"Visualizing UFO\")\n",
    "    def_tt = Tooltip(fields=['name', 'color'], formats=['', ''], labels=['State', field])\n",
    "    map_res = plt.geo(map_data=bqplot.topo_load('map_data/USStatesMap.json'),\n",
    "                      colors = {'default_color':'Black'},\n",
    "                      scales = {'projection': bqplot.AlbersUSA(),\n",
    "                                'color': ColorScale(colors=['DeepSkyBlue','Gray','Red'])},\n",
    "                      color=dict(zip(fips_year['fips'],fips_year[field])),\n",
    "                      tooltip=def_tt) # \n",
    "    \n",
    "    map_res.interactions={'click':'tooltip', 'hover':'tooltip'}\n",
    "    \n",
    "    \n",
    "    def state_selected(selected_1, selected_2):\n",
    "        fips_state=fips[fips['fips']==int(selected_2['data']['id'])]\n",
    "        lineplot = plt.figure(title='The {0} of {1}'.format(field, selected_2['data']['name']))\n",
    "        plt.plot(fips_state['year'], fips_state[field])\n",
    "        plt.show()\n",
    "        \n",
    "        \n",
    "    \n",
    "    map_res.on_element_click(state_selected)\n",
    "    plt.show()\n",
    "    \n",
    "    "
   ]
  },
  {
   "cell_type": "code",
   "execution_count": null,
   "metadata": {
    "collapsed": true
   },
   "outputs": [],
   "source": []
  }
 ],
 "metadata": {
  "kernelspec": {
   "display_name": "Python 3",
   "language": "python",
   "name": "python3"
  },
  "language_info": {
   "codemirror_mode": {
    "name": "ipython",
    "version": 3
   },
   "file_extension": ".py",
   "mimetype": "text/x-python",
   "name": "python",
   "nbconvert_exporter": "python",
   "pygments_lexer": "ipython3",
   "version": "3.6.3"
  }
 },
 "nbformat": 4,
 "nbformat_minor": 2
}
