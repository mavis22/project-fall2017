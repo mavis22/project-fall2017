{
 "cells": [
  {
   "cell_type": "code",
   "execution_count": 1,
   "metadata": {
    "collapsed": true,
    "scrolled": true
   },
   "outputs": [],
   "source": [
    "%matplotlib inline"
   ]
  },
  {
   "cell_type": "code",
   "execution_count": 2,
   "metadata": {
    "collapsed": true
   },
   "outputs": [],
   "source": [
    "import pandas as pd\n",
    "import bqplot\n",
    "from bqplot import *\n",
    "import us\n",
    "import bqplot.pyplot as plt\n",
    "from ipywidgets import widgets\n",
    "import ipywidgets"
   ]
  },
  {
   "cell_type": "code",
   "execution_count": 3,
   "metadata": {
    "collapsed": true
   },
   "outputs": [],
   "source": [
    "names = [\"date\", \"city\", \"state\", \"country\", \"shape\", \"duration_seconds\",\n",
    "         \"duration_reported\", \"description\", \"report_date\", \"latitude\",\n",
    "         \"longitude\"]\n",
    "\n",
    "fn = 'ufo-scrubbed-geocoded-time-standardized.csv'\n",
    "ufo = pd.read_csv(fn, names = names, parse_dates = [\"date\", \"report_date\"])\n",
    "\n",
    "abbr_to_fits = us.states.mapping('abbr', 'fips')\n",
    "ufo[\"fips\"] = ufo[\"state\"].apply(lambda a: int(abbr_to_fits.get(str(a).upper(), -1)))\n",
    "ufo_date = ufo.set_index(\"date\")\n",
    "ufo['year'] = ufo_date.index.year\n",
    "ufo = ufo[ufo['fips'] != -1]"
   ]
  },
  {
   "cell_type": "code",
   "execution_count": 4,
   "metadata": {
    "collapsed": true
   },
   "outputs": [],
   "source": [
    "fips_count = ufo.groupby(['fips','year'])['duration_seconds'].count()\n",
    "fips_sum = ufo.groupby(['fips','year'])['duration_seconds'].sum()\n",
    "fips = pd.DataFrame()"
   ]
  },
  {
   "cell_type": "code",
   "execution_count": 5,
   "metadata": {
    "collapsed": true
   },
   "outputs": [],
   "source": [
    "fips['total_sightings'] = fips_count\n",
    "fips['duration_seconds'] =fips_sum"
   ]
  },
  {
   "cell_type": "code",
   "execution_count": 6,
   "metadata": {
    "collapsed": true
   },
   "outputs": [],
   "source": [
    "fips = fips.reset_index(level=['fips','year'])"
   ]
  },
  {
   "cell_type": "code",
   "execution_count": 7,
   "metadata": {
    "collapsed": true
   },
   "outputs": [],
   "source": [
    "## get population of each state\n",
    "population=pd.read_csv('U.S._states_ population.csv',na_values='n/a')\n",
    "population=population[(population['year']>=1910)&(population['year']<=2014)]\n",
    "ppl=pd.melt(population, id_vars=['year'], value_vars=list(population)[1:])\n",
    "ppl=ppl.rename(index=str, columns={\"variable\": \"state\", \"value\": \"population\"})\n",
    "ppl[\"fips\"] = ppl[\"state\"].apply(lambda a: int(abbr_to_fits.get(str(a).upper(), -1)))\n",
    "ppl['population']=ppl['population'].str.replace(\",\", \"\").astype(float)"
   ]
  },
  {
   "cell_type": "code",
   "execution_count": 8,
   "metadata": {
    "collapsed": true
   },
   "outputs": [],
   "source": [
    "## Merge population data with fips and normalize total sighting\n",
    "fips=pd.merge(fips, ppl, how='left', on=['fips', 'year'])\n",
    "fips['normalize_sighting']=fips.total_sightings/fips.population*1000000"
   ]
  },
  {
   "cell_type": "code",
   "execution_count": 9,
   "metadata": {
    "collapsed": true
   },
   "outputs": [],
   "source": [
    "import widgetsnbextension\n",
    "from IPython.display import display"
   ]
  },
  {
   "cell_type": "code",
   "execution_count": 10,
   "metadata": {},
   "outputs": [
    {
     "data": {
      "application/vnd.jupyter.widget-view+json": {
       "model_id": "15e5c9876a4d45c29cf900a2b8c80f11",
       "version_major": 2,
       "version_minor": 0
      },
      "text/html": [
       "<p>Failed to display Jupyter Widget of type <code>interactive</code>.</p>\n",
       "<p>\n",
       "  If you're reading this message in the Jupyter Notebook or JupyterLab Notebook, it may mean\n",
       "  that the widgets JavaScript is still loading. If this message persists, it\n",
       "  likely means that the widgets JavaScript library is either not installed or\n",
       "  not enabled. See the <a href=\"https://ipywidgets.readthedocs.io/en/stable/user_install.html\">Jupyter\n",
       "  Widgets Documentation</a> for setup instructions.\n",
       "</p>\n",
       "<p>\n",
       "  If you're reading this message in another frontend (for example, a static\n",
       "  rendering on GitHub or <a href=\"https://nbviewer.jupyter.org/\">NBViewer</a>),\n",
       "  it may mean that your frontend doesn't currently support widgets.\n",
       "</p>\n"
      ],
      "text/plain": [
       "interactive(children=(Dropdown(description='field', options=('total_sightings', 'duration_seconds', 'normalize_sighting'), value='total_sightings'), IntSlider(value=2014, description='year', max=2014, min=1910), Output()), _dom_classes=('widget-interact',))"
      ]
     },
     "metadata": {},
     "output_type": "display_data"
    }
   ],
   "source": [
    "@ipywidgets.interact(field = [\"total_sightings\", \"duration_seconds\", \"normalize_sighting\"], year = (min(fips['year']),max(fips['year']),1))\n",
    "def make_plot(field, year=max(fips['year'])):\n",
    "    fips_year = fips[fips['year']==int(year)]\n",
    "    #fips_select = fips_year['fips'fips_year]\n",
    "    map_fig = plt.figure(\"Visualizing ufo\", min_width=1300, min_height=800)\n",
    "    def_tt = Tooltip(fields=['name', 'color'], formats=['', ''], labels=['State', field])\n",
    "    map_res = plt.geo(map_data=bqplot.topo_load('map_data/USStatesMap.json'),\n",
    "                      colors = {'default_color':'Black'},\n",
    "                      scales = {'projection': bqplot.AlbersUSA(),\n",
    "                                'color': ColorScale(colors=['Red','Gray','DeepSkyBlue'])},\n",
    "                      color=dict(zip(fips_year['fips'],fips_year[field])),\n",
    "                      tooltip=def_tt) # \n",
    "    \n",
    "    plt.show()"
   ]
  },
  {
   "cell_type": "code",
   "execution_count": null,
   "metadata": {
    "collapsed": true
   },
   "outputs": [],
   "source": []
  }
 ],
 "metadata": {
  "kernelspec": {
   "display_name": "Python 3",
   "language": "python",
   "name": "python3"
  },
  "language_info": {
   "codemirror_mode": {
    "name": "ipython",
    "version": 3
   },
   "file_extension": ".py",
   "mimetype": "text/x-python",
   "name": "python",
   "nbconvert_exporter": "python",
   "pygments_lexer": "ipython3",
   "version": "3.6.3"
  }
 },
 "nbformat": 4,
 "nbformat_minor": 2
}
