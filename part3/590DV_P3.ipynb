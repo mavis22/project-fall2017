{
 "cells": [
  {
   "cell_type": "code",
   "execution_count": 10,
   "metadata": {
    "collapsed": true,
    "scrolled": true
   },
   "outputs": [],
   "source": [
    "%matplotlib inline"
   ]
  },
  {
   "cell_type": "code",
   "execution_count": 11,
   "metadata": {
    "collapsed": true
   },
   "outputs": [],
   "source": [
    "import pandas as pd\n",
    "import bqplot\n",
    "from bqplot import *\n",
    "import us\n",
    "import bqplot.pyplot as plt\n",
    "from ipywidgets import widgets\n",
    "import ipywidgets"
   ]
  },
  {
   "cell_type": "code",
   "execution_count": 12,
   "metadata": {
    "collapsed": true
   },
   "outputs": [],
   "source": [
    "names = [\"date\", \"city\", \"state\", \"country\", \"shape\", \"duration_seconds\",\n",
    "         \"duration_reported\", \"description\", \"report_date\", \"latitude\",\n",
    "         \"longitude\"]\n",
    "\n",
    "fn = 'ufo-scrubbed-geocoded-time-standardized.csv'\n",
    "ufo = pd.read_csv(fn, names = names, parse_dates = [\"date\", \"report_date\"])\n",
    "\n",
    "abbr_to_fits = us.states.mapping('abbr', 'fips')\n",
    "ufo[\"fips\"] = ufo[\"state\"].apply(lambda a: int(abbr_to_fits.get(str(a).upper(), -1)))\n",
    "ufo_date = ufo.set_index(\"date\")\n",
    "ufo['year'] = ufo_date.index.year\n",
    "ufo = ufo[ufo['fips'] != -1]"
   ]
  },
  {
   "cell_type": "code",
   "execution_count": 13,
   "metadata": {
    "collapsed": true
   },
   "outputs": [],
   "source": [
    "fips_count = ufo.groupby(['fips','year'])['duration_seconds'].count()\n",
    "fips_sum = ufo.groupby(['fips','year'])['duration_seconds'].sum()\n",
    "fips = pd.DataFrame()"
   ]
  },
  {
   "cell_type": "code",
   "execution_count": 14,
   "metadata": {
    "collapsed": true
   },
   "outputs": [],
   "source": [
    "fips['total_sightings'] = fips_count\n",
    "fips['duration_seconds'] =fips_sum\n",
    "fips['state'] = ufo['state']"
   ]
  },
  {
   "cell_type": "code",
   "execution_count": 15,
   "metadata": {
    "collapsed": true
   },
   "outputs": [],
   "source": [
    "fips = fips.reset_index(level=['fips','year'])"
   ]
  },
  {
   "cell_type": "code",
   "execution_count": 16,
   "metadata": {},
   "outputs": [
    {
     "data": {
      "application/vnd.jupyter.widget-view+json": {
       "model_id": "59b489ba913c4752b282666f477b4052",
       "version_major": 2,
       "version_minor": 0
      },
      "text/plain": [
       "A Jupyter Widget"
      ]
     },
     "metadata": {},
     "output_type": "display_data"
    }
   ],
   "source": [
    "@ipywidgets.interact(field = [\"total_sightings\", \"duration_seconds\"], year = (min(fips['year']),max(fips['year']),1))\n",
    "def make_plot(field, year=max(fips['year'])):\n",
    "    fips_year = fips[fips['year']==int(year)]\n",
    "    #fips_select = fips_year['fips'fips_year]\n",
    "    map_fig = plt.figure(\"Visualizing ufo\", min_width=1300, min_height=800)\n",
    "    def_tt = Tooltip(fields=['name', 'color'], formats=['', ''], labels=['State', field])\n",
    "    map_res = plt.geo(map_data=bqplot.topo_load('map_data/USStatesMap.json'),\n",
    "                      colors = {'default_color':'Black'},\n",
    "                      scales = {'projection': bqplot.AlbersUSA(),\n",
    "                                'color': ColorScale(colors=['Red','Gray','DeepSkyBlue'])},\n",
    "                      color=dict(zip(fips_year['fips'],fips_year[field])),\n",
    "                      tooltip=def_tt) # \n",
    "    \n",
    "    \n",
    "    plt.show()"
   ]
  }
 ],
 "metadata": {
  "kernelspec": {
   "display_name": "Python 3",
   "language": "python",
   "name": "python3"
  },
  "language_info": {
   "codemirror_mode": {
    "name": "ipython",
    "version": 3
   },
   "file_extension": ".py",
   "mimetype": "text/x-python",
   "name": "python",
   "nbconvert_exporter": "python",
   "pygments_lexer": "ipython3",
   "version": "3.6.3"
  }
 },
 "nbformat": 4,
 "nbformat_minor": 2
}
